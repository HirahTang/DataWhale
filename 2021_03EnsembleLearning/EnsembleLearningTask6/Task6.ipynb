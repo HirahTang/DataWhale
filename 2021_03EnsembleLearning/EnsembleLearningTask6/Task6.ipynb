{
 "cells": [
  {
   "cell_type": "markdown",
   "metadata": {},
   "source": [
    "## Confusion Matrix sets"
   ]
  },
  {
   "cell_type": "markdown",
   "metadata": {},
   "source": [
    "## 关于分类模型的筛选：通过调整模型threshold，绘制多组confusion matrices 来找到最优化的threshold"
   ]
  },
  {
   "cell_type": "code",
   "execution_count": 11,
   "metadata": {},
   "outputs": [],
   "source": [
    "def threshold(data, value):\n",
    "    data = (data >= value)\n",
    "    return data\n",
    "\n",
    "def cf_matrix_plot(cf_matrix, threshold, ax):\n",
    "    \n",
    "    group_names = ['TN','FP','FN','TP']\n",
    "    group_counts = [\"{0:0.0f}\".format(value) for value in\n",
    "                cf_matrix.flatten()]\n",
    "    group_percentages = [\"{0:.2%}\".format(value) for value in\n",
    "                     cf_matrix.flatten()/np.sum(cf_matrix)]\n",
    "    labels = [f\"{v1}\\n{v2}\\n{v3}\" for v1, v2, v3 in\n",
    "          zip(group_names,group_counts,group_percentages)]\n",
    "    labels = np.asarray(labels).reshape(2,2)\n",
    "    \n",
    "    sns.heatmap(cf_matrix, ax = ax,  annot=labels, fmt='', cmap='Blues', annot_kws={\"fontsize\":15})\n",
    "    ax.set_title('Threshold @ {}'.format(round(threshold, 2)))\n",
    "#    plt.show()\n",
    "    \n",
    "    \n",
    "def confusion_matrix_plot(eval_dt, threshold_v, ax):\n",
    "    eval_dt = eval_dt.apply(lambda x: threshold(x, threshold_v), axis = 1)\n",
    "    eval_dt = eval_dt.astype(int)\n",
    "    tn, fp, fn, tp = confusion_matrix(eval_dt['true'], eval_dt['pred']).ravel()\n",
    "    cf_matrix = confusion_matrix(eval_dt['true'], eval_dt['pred'])\n",
    "    cf_matrix_plot(cf_matrix, threshold_v, ax)\n",
    "    return (recall_score(eval_dt['true'], eval_dt['pred']), \n",
    "        fp / (fp + tn), precision_score(eval_dt['true'], eval_dt['pred']),\n",
    "        f1_score(eval_dt['true'], eval_dt['pred']))\n",
    "\n",
    "def cm_full(true_class, pred_class, data):\n",
    "    res = data[[true_class, pred_class]]\n",
    "    res = res.rename(columns={true_class: \"true\", pred_class: \"pred\"})\n",
    "    fpr_l = []\n",
    "    recall_l = []\n",
    "    thresholds = []\n",
    "    precision_l = []\n",
    "    f1_l = []\n",
    "    fig, axes = plt.subplots(nrows=5, ncols=4, sharex=True, sharey=True, figsize = (16, 20))\n",
    "\n",
    "    for t_value, i in zip(np.arange(0.05, 1.05, 0.05), axes.ravel()):\n",
    "#    for j in i:\n",
    "        recall, fpr, precision, f1 = confusion_matrix_plot(res.copy(), t_value, i)\n",
    "        fpr_l.append(fpr)\n",
    "        recall_l.append(recall)\n",
    "        thresholds.append(t_value)\n",
    "        precision_l.append(precision)\n",
    "        f1_l.append(f1)\n",
    "    plt.suptitle('{}'.format(true_class), fontsize = 20)\n",
    "    plt.show()\n",
    "    \n",
    "#    i.plot([1,2,3,4])\n",
    "    plt.plot(thresholds, [round(i, 3) for i in recall_l], label = 'Recall')\n",
    "    plt.plot(thresholds, [round(i, 3) for i in precision_l], label = 'Precision')\n",
    "    plt.plot(thresholds, [round(i, 3) for i in f1_l], label = 'F1')\n",
    "    plt.plot(thresholds, [round(i, 3) for i in fpr_l], label = 'FPR')\n",
    "    plt.legend()\n",
    "    plt.xlabel('Threshold values', fontsize = 15)\n",
    "    plt.ylabel('Values', fontsize = 15)\n",
    "    plt.title('{} for different threshold values'.format(true_class), fontsize = 17)\n",
    "    plt.grid()\n",
    "    plt.show()"
   ]
  },
  {
   "cell_type": "code",
   "execution_count": null,
   "metadata": {},
   "outputs": [],
   "source": [
    "cm_full('Change of Use', 'ChangeofUsepred', eval_dt)"
   ]
  }
 ],
 "metadata": {
  "kernelspec": {
   "display_name": "Python 3",
   "language": "python",
   "name": "python3"
  },
  "language_info": {
   "codemirror_mode": {
    "name": "ipython",
    "version": 3
   },
   "file_extension": ".py",
   "mimetype": "text/x-python",
   "name": "python",
   "nbconvert_exporter": "python",
   "pygments_lexer": "ipython3",
   "version": "3.8.5"
  }
 },
 "nbformat": 4,
 "nbformat_minor": 4
}
